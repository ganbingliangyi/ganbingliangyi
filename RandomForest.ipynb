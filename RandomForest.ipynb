{
 "cells": [
  {
   "cell_type": "code",
   "execution_count": 1,
   "id": "9b6e82e6",
   "metadata": {},
   "outputs": [
    {
     "data": {
      "text/html": [
       "<div>\n",
       "<style scoped>\n",
       "    .dataframe tbody tr th:only-of-type {\n",
       "        vertical-align: middle;\n",
       "    }\n",
       "\n",
       "    .dataframe tbody tr th {\n",
       "        vertical-align: top;\n",
       "    }\n",
       "\n",
       "    .dataframe thead th {\n",
       "        text-align: right;\n",
       "    }\n",
       "</style>\n",
       "<table border=\"1\" class=\"dataframe\">\n",
       "  <thead>\n",
       "    <tr style=\"text-align: right;\">\n",
       "      <th></th>\n",
       "      <th>Age</th>\n",
       "      <th>BMI</th>\n",
       "      <th>Waist</th>\n",
       "      <th>GLU</th>\n",
       "      <th>UA</th>\n",
       "      <th>TC</th>\n",
       "      <th>TG</th>\n",
       "      <th>HDL</th>\n",
       "      <th>LDL</th>\n",
       "      <th>PGI</th>\n",
       "      <th>PGII</th>\n",
       "      <th>CA724</th>\n",
       "      <th>SBP</th>\n",
       "      <th>DBP</th>\n",
       "      <th>Smoking</th>\n",
       "      <th>Drinker</th>\n",
       "      <th>Sex</th>\n",
       "      <th>CAS</th>\n",
       "    </tr>\n",
       "  </thead>\n",
       "  <tbody>\n",
       "    <tr>\n",
       "      <th>0</th>\n",
       "      <td>42</td>\n",
       "      <td>22.06</td>\n",
       "      <td>76</td>\n",
       "      <td>4.72</td>\n",
       "      <td>494</td>\n",
       "      <td>4.17</td>\n",
       "      <td>1.09</td>\n",
       "      <td>1.60</td>\n",
       "      <td>1.94</td>\n",
       "      <td>157.23</td>\n",
       "      <td>29.65</td>\n",
       "      <td>0.23</td>\n",
       "      <td>84</td>\n",
       "      <td>57</td>\n",
       "      <td>0</td>\n",
       "      <td>0</td>\n",
       "      <td>1</td>\n",
       "      <td>0</td>\n",
       "    </tr>\n",
       "    <tr>\n",
       "      <th>1</th>\n",
       "      <td>39</td>\n",
       "      <td>23.91</td>\n",
       "      <td>78</td>\n",
       "      <td>5.13</td>\n",
       "      <td>382</td>\n",
       "      <td>4.49</td>\n",
       "      <td>2.17</td>\n",
       "      <td>1.14</td>\n",
       "      <td>2.32</td>\n",
       "      <td>92.39</td>\n",
       "      <td>15.59</td>\n",
       "      <td>1.33</td>\n",
       "      <td>107</td>\n",
       "      <td>71</td>\n",
       "      <td>0</td>\n",
       "      <td>0</td>\n",
       "      <td>1</td>\n",
       "      <td>0</td>\n",
       "    </tr>\n",
       "    <tr>\n",
       "      <th>2</th>\n",
       "      <td>56</td>\n",
       "      <td>23.26</td>\n",
       "      <td>72</td>\n",
       "      <td>5.39</td>\n",
       "      <td>381</td>\n",
       "      <td>5.57</td>\n",
       "      <td>1.67</td>\n",
       "      <td>1.47</td>\n",
       "      <td>3.09</td>\n",
       "      <td>87.26</td>\n",
       "      <td>20.89</td>\n",
       "      <td>26.78</td>\n",
       "      <td>131</td>\n",
       "      <td>79</td>\n",
       "      <td>0</td>\n",
       "      <td>0</td>\n",
       "      <td>0</td>\n",
       "      <td>0</td>\n",
       "    </tr>\n",
       "    <tr>\n",
       "      <th>3</th>\n",
       "      <td>53</td>\n",
       "      <td>23.27</td>\n",
       "      <td>73</td>\n",
       "      <td>6.10</td>\n",
       "      <td>412</td>\n",
       "      <td>6.37</td>\n",
       "      <td>2.34</td>\n",
       "      <td>1.34</td>\n",
       "      <td>3.70</td>\n",
       "      <td>14.60</td>\n",
       "      <td>12.85</td>\n",
       "      <td>0.20</td>\n",
       "      <td>131</td>\n",
       "      <td>78</td>\n",
       "      <td>0</td>\n",
       "      <td>0</td>\n",
       "      <td>0</td>\n",
       "      <td>1</td>\n",
       "    </tr>\n",
       "    <tr>\n",
       "      <th>4</th>\n",
       "      <td>48</td>\n",
       "      <td>18.75</td>\n",
       "      <td>63</td>\n",
       "      <td>5.38</td>\n",
       "      <td>393</td>\n",
       "      <td>3.86</td>\n",
       "      <td>0.88</td>\n",
       "      <td>1.73</td>\n",
       "      <td>1.73</td>\n",
       "      <td>45.12</td>\n",
       "      <td>5.54</td>\n",
       "      <td>14.97</td>\n",
       "      <td>94</td>\n",
       "      <td>64</td>\n",
       "      <td>0</td>\n",
       "      <td>0</td>\n",
       "      <td>0</td>\n",
       "      <td>0</td>\n",
       "    </tr>\n",
       "  </tbody>\n",
       "</table>\n",
       "</div>"
      ],
      "text/plain": [
       "   Age    BMI  Waist   GLU   UA    TC    TG   HDL   LDL     PGI   PGII  CA724  \\\n",
       "0   42  22.06     76  4.72  494  4.17  1.09  1.60  1.94  157.23  29.65   0.23   \n",
       "1   39  23.91     78  5.13  382  4.49  2.17  1.14  2.32   92.39  15.59   1.33   \n",
       "2   56  23.26     72  5.39  381  5.57  1.67  1.47  3.09   87.26  20.89  26.78   \n",
       "3   53  23.27     73  6.10  412  6.37  2.34  1.34  3.70   14.60  12.85   0.20   \n",
       "4   48  18.75     63  5.38  393  3.86  0.88  1.73  1.73   45.12   5.54  14.97   \n",
       "\n",
       "   SBP  DBP  Smoking  Drinker  Sex  CAS  \n",
       "0   84   57        0        0    1    0  \n",
       "1  107   71        0        0    1    0  \n",
       "2  131   79        0        0    0    0  \n",
       "3  131   78        0        0    0    1  \n",
       "4   94   64        0        0    0    0  "
      ]
     },
     "execution_count": 1,
     "metadata": {},
     "output_type": "execute_result"
    }
   ],
   "source": [
    "import numpy as np\n",
    "import pandas as pd\n",
    "import matplotlib.pyplot as plt\n",
    "import seaborn as sns\n",
    "plt.rc('font',family='Times New Roman')\n",
    "a = 'C:/Users/46685/Desktop/科研数据/数据汇总/新建处理后后逻辑回归1.xlsx'\n",
    "dataset= pd.read_excel(a,sheet_name = 'Sheet1')\n",
    "dataset.head() #显示前几排数据"
   ]
  },
  {
   "cell_type": "code",
   "execution_count": 2,
   "id": "70ad0836",
   "metadata": {},
   "outputs": [
    {
     "name": "stdout",
     "output_type": "stream",
     "text": [
      "     Age    BMI  Waist   GLU   UA    TC    TG   HDL   LDL     PGI   PGII  \\\n",
      "0     42  22.06     76  4.72  494  4.17  1.09  1.60  1.94  157.23  29.65   \n",
      "1     39  23.91     78  5.13  382  4.49  2.17  1.14  2.32   92.39  15.59   \n",
      "2     56  23.26     72  5.39  381  5.57  1.67  1.47  3.09   87.26  20.89   \n",
      "3     53  23.27     73  6.10  412  6.37  2.34  1.34  3.70   14.60  12.85   \n",
      "4     48  18.75     63  5.38  393  3.86  0.88  1.73  1.73   45.12   5.54   \n",
      "..   ...    ...    ...   ...  ...   ...   ...   ...   ...     ...    ...   \n",
      "145   63  23.76     75  6.14  383  6.77  0.49  2.80  2.76   52.43   6.92   \n",
      "146   46  19.29     75  5.32  244  6.06  2.92  1.22  3.17   57.87   6.45   \n",
      "147   32  25.23     88  5.53  591  6.19  3.31  1.43  3.56   54.30   5.60   \n",
      "148   72  25.99     85  8.40  438  4.19  0.86  1.85  1.58  110.10  10.81   \n",
      "149   40  22.25     82  5.53  459  4.94  2.15  1.33  2.33   39.44   4.63   \n",
      "\n",
      "     CA724  SBP  DBP  Smoking  Drinker  \n",
      "0     0.23   84   57        0        0  \n",
      "1     1.33  107   71        0        0  \n",
      "2    26.78  131   79        0        0  \n",
      "3     0.20  131   78        0        0  \n",
      "4    14.97   94   64        0        0  \n",
      "..     ...  ...  ...      ...      ...  \n",
      "145   0.79  128   58        0        0  \n",
      "146   1.42  116   73        0        0  \n",
      "147   0.69  128   95        0        0  \n",
      "148  10.46  142   71        0        0  \n",
      "149   4.82  114   79        0        0  \n",
      "\n",
      "[150 rows x 16 columns]\n",
      "0      0\n",
      "1      0\n",
      "2      0\n",
      "3      1\n",
      "4      0\n",
      "      ..\n",
      "145    0\n",
      "146    0\n",
      "147    0\n",
      "148    0\n",
      "149    0\n",
      "Name: CAS, Length: 150, dtype: int64\n"
     ]
    }
   ],
   "source": [
    "x=dataset.iloc[:,0:16]\n",
    "y=dataset.iloc[:,17]\n",
    "print(x)\n",
    "print(y)"
   ]
  },
  {
   "cell_type": "code",
   "execution_count": 26,
   "id": "80cadced",
   "metadata": {},
   "outputs": [],
   "source": [
    "from sklearn.model_selection import  train_test_split\n",
    "from sklearn.ensemble import RandomForestClassifier\n",
    "x_train,x_test,y_train,y_test=train_test_split(x,y,test_size=0.15,random_state=0)\n",
    "rfc1 = RandomForestClassifier(n_estimators = 100, # 树的数量\n",
    "                              max_depth= 5,       # 子树最大深度\n",
    "                              oob_score=True,\n",
    "                              class_weight = \"balanced\",\n",
    "                              random_state=1)\n",
    "rfc1.fit(x_train,y_train)\n",
    "## 输出其在训练数据和验证数据集上的预测精度\n",
    "\n",
    "y_predict = rfc1.predict(x_test)\n",
    "from sklearn.metrics import confusion_matrix,accuracy_score\n"
   ]
  },
  {
   "cell_type": "code",
   "execution_count": 27,
   "id": "295ec79d",
   "metadata": {},
   "outputs": [
    {
     "name": "stdout",
     "output_type": "stream",
     "text": [
      "              precision    recall  f1-score   support\n",
      "\n",
      "           0       0.86      0.95      0.90        19\n",
      "           1       0.50      0.25      0.33         4\n",
      "\n",
      "    accuracy                           0.83        23\n",
      "   macro avg       0.68      0.60      0.62        23\n",
      "weighted avg       0.80      0.83      0.80        23\n",
      "\n"
     ]
    }
   ],
   "source": [
    "from sklearn.metrics import classification_report\n",
    "print(classification_report(y_test,y_predict)) "
   ]
  },
  {
   "cell_type": "code",
   "execution_count": 28,
   "id": "06eb7d61",
   "metadata": {},
   "outputs": [
    {
     "name": "stdout",
     "output_type": "stream",
     "text": [
      "(3,) (3,) (3,)\n"
     ]
    },
    {
     "data": {
      "text/plain": [
       "<Figure size 432x288 with 0 Axes>"
      ]
     },
     "metadata": {},
     "output_type": "display_data"
    },
    {
     "data": {
      "image/png": "[encoded data removed]",
      "text/plain": [
       "<Figure size 720x720 with 1 Axes>"
      ]
     },
     "metadata": {
      "needs_background": "light"
     },
     "output_type": "display_data"
    }
   ],
   "source": [
    "from sklearn.metrics import roc_curve, auc\n",
    "from sklearn.metrics import roc_auc_score\n",
    "fpr,tpr,threshold = roc_curve(y_predict,y_test) ###计算真正率和假正率\n",
    "roc_auc = auc(fpr,tpr) ###计算auc的值\n",
    "print(fpr.shape, tpr.shape, threshold.shape)\n",
    "\n",
    "\n",
    "plt.figure()\n",
    "lw = 2\n",
    "plt.figure(figsize=(10,10))\n",
    "plt.plot(fpr, tpr, color='darkorange',\n",
    "         lw=lw, label='ROC curve (area = %0.2f)' % roc_auc) ###假正率为横坐标，真正率为纵坐标做曲线\n",
    "plt.plot([0, 1], [0, 1], color='navy', lw=lw, linestyle='--')\n",
    "plt.xlim([0.0, 1.0])\n",
    "plt.ylim([0.0, 1.05])\n",
    "plt.xlabel('False Positive Rate')\n",
    "plt.ylabel('True Positive Rate')\n",
    "plt.title('Receiver operating characteristic example')\n",
    "plt.legend(loc=\"lower right\")\n",
    "plt.show()"
   ]
  },
  {
   "cell_type": "code",
   "execution_count": null,
   "id": "c00d263c",
   "metadata": {},
   "outputs": [],
   "source": []
  },
  {
   "cell_type": "code",
   "execution_count": null,
   "id": "cb58d496",
   "metadata": {},
   "outputs": [],
   "source": []
  }
 ],
 "metadata": {
  "kernelspec": {
   "display_name": "Python 3 (ipykernel)",
   "language": "python",
   "name": "python3"
  },
  "language_info": {
   "codemirror_mode": {
    "name": "ipython",
    "version": 3
   },
   "file_extension": ".py",
   "mimetype": "text/x-python",
   "name": "python",
   "nbconvert_exporter": "python",
   "pygments_lexer": "ipython3",
   "version": "3.9.7"
  }
 },
 "nbformat": 4,
 "nbformat_minor": 5
}
