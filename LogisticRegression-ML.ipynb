import numpy as np
import pandas as pd
import matplotlib.pyplot as plt
import seaborn as sns
plt.rc('font',family='Times New Roman')
a = 'C:/Users/46685/Desktop/论文王/4.4炎症和营养指标.xlsx'
dataset= pd.read_excel(a,sheet_name = '4.4炎症和营养指标')
dataset.head() #显示前几排数据
x=dataset.iloc[:,0:20]
y=dataset.iloc[:,20]
print(x)
print(y)  #打印出数据列表，主要看Y值是否为目标值
  
from sklearn.model_selection import  train_test_split
from sklearn.linear_model import LogisticRegression
x_train,x_test,y_train,y_test=train_test_split(x,y,test_size=0.15,random_state=0)  #把数据划分为测试集和训练集
model = LogisticRegression(C=1.0, class_weight=None, dual=False, fit_intercept=True,
          intercept_scaling=1, max_iter=100, multi_class='ovr', n_jobs=1,
          penalty='l2', random_state=None, solver='liblinear', tol=0.0001,
          verbose=0, warm_start=False)
model.fit(x_train,y_train)
## 输出其在训练数据和验证数据集上的预测精度

y_predict = model.predict(x_test)
from sklearn.metrics import confusion_matrix,accuracy_score
from sklearn.metrics import classification_report
print(classification_report(y_test,y_predict)) 

from sklearn.metrics import roc_curve, auc
from sklearn.metrics import roc_auc_score
import numpy as np

pre_y = model.predict_proba(x_test)[:,1]    # 把二分类结果，转换为对每次结果的取值，这样ROC才会是连续变化
fpr,tpr,threshold = roc_curve(y_test,pre_y) ###计算真正率和假正率
roc_auc = auc(fpr,tpr) ###计算auc的值
print(fpr.shape, tpr.shape, threshold.shape)


plt.figure()
lw = 2
plt.figure (figsize=(5,5),dpi=1000) #图片的大小和显示率
plt.plot(fpr, tpr, color='darkorange',
         lw=lw, label='LogisticRegression (area = %0.2f)' % roc_auc) ###假正率为横坐标，真正率为纵坐标做曲线
plt.plot([0, 1], [0, 1], color='navy', lw=lw, linestyle='--')
plt.xlim([0.0, 1.0])
plt.ylim([0.0, 1.05])
plt.xlabel('False Positive Rate')
plt.ylabel('True Positive Rate')
plt.title('Receiver operating characteristic example')
plt.legend(loc="lower right")
plt.show()
 



